{
 "cells": [
  {
   "cell_type": "markdown",
   "metadata": {},
   "source": [
    "# Mining a USAID report\n",
    "This is a first go at mining a report from a funding body, in this case a report from USAID on. We will try and extract all relevant placenames from the report."
   ]
  },
  {
   "cell_type": "code",
   "execution_count": 1,
   "metadata": {},
   "outputs": [],
   "source": [
    "import pandas as pd\n",
    "from bs4 import BeautifulSoup\n",
    "import os\n",
    "import PyPDF2\n",
    "import re"
   ]
  },
  {
   "cell_type": "markdown",
   "metadata": {},
   "source": [
    "Select the doc you want to analyse"
   ]
  },
  {
   "cell_type": "code",
   "execution_count": 2,
   "metadata": {
    "collapsed": true
   },
   "outputs": [],
   "source": [
    "doc = os.path.join('/', 'home', 'peter', 'data', 'Surgo', 'usaid_evaluation_example.pdf')"
   ]
  },
  {
   "cell_type": "markdown",
   "metadata": {},
   "source": [
    "Define function to extract all the characters from a PDF. "
   ]
  },
  {
   "cell_type": "code",
   "execution_count": 3,
   "metadata": {
    "collapsed": true
   },
   "outputs": [],
   "source": [
    "def extract_text_from_pdf(path):\n",
    "    pdfFileObj = open(doc,'rb')\n",
    "    pdfReader = PyPDF2.PdfFileReader(pdfFileObj)\n",
    "    text = ''\n",
    "    for page in range(0, pdfReader.getNumPages()):\n",
    "        pageObj = pdfReader.getPage(page)          \n",
    "        text = text + ' ' + pageObj.extractText()\n",
    "    return(text)"
   ]
  },
  {
   "cell_type": "markdown",
   "metadata": {},
   "source": [
    "Extract text form the requested doc"
   ]
  },
  {
   "cell_type": "code",
   "execution_count": 4,
   "metadata": {},
   "outputs": [],
   "source": [
    "txt = extract_text_from_pdf(doc)"
   ]
  },
  {
   "cell_type": "markdown",
   "metadata": {},
   "source": [
    "Clean up the raw text by removing any html, linebreaks, and non-letter characters. Then split so we have a list with all the words."
   ]
  },
  {
   "cell_type": "code",
   "execution_count": 51,
   "metadata": {},
   "outputs": [
    {
     "name": "stdout",
     "output_type": "stream",
     "text": [
      "['april', 'this', 'publication', 'was', 'produced', 'for', 'review', 'by', 'the', 'united', 'states', 'agency', 'for', 'international', 'development', 'it', 'was', 'prepared', 'by', 'michele', 'andina', 'robertino', 'mera', 'dipanjan', 'sujit', 'roy', 'and', 'anita', 'rego', 'under', 'the', 'direction', 'of', 'social', 'impact', 'inc', 'with', 'management', 'systems', 'international', 'evaluation', 'aids', 'prevention', 'and', 'control', 'apac', 'evaluation', 'usaid', 'india', 'final']\n",
      "24597\n"
     ]
    }
   ],
   "source": [
    "txt_clean = BeautifulSoup(txt, \"html5lib\").get_text()\n",
    "txt_clean = re.sub(\"\\n\", ' ', txt_clean)\n",
    "txt_clean = re.sub(\"[^a-zA-Z]\",           # The pattern to search for\n",
    "                      \" \",                       # The pattern to replace it with\n",
    "                      txt_clean)\n",
    "txt_clean = txt_clean.lower()\n",
    "txt_clean_list = txt_clean.split()               # Split into words, i.e. tokenize\n",
    "print(txt_clean_list[0:50])\n",
    "print(len(txt_clean_list))"
   ]
  },
  {
   "cell_type": "markdown",
   "metadata": {},
   "source": [
    "Download and initialize stopwords"
   ]
  },
  {
   "cell_type": "code",
   "execution_count": 52,
   "metadata": {},
   "outputs": [
    {
     "name": "stdout",
     "output_type": "stream",
     "text": [
      "[nltk_data] Downloading package stopwords to /home/peter/nltk_data...\n",
      "[nltk_data]   Package stopwords is already up-to-date!\n",
      "Number of words after preprocessing (including duplicates): 17155 \n"
     ]
    }
   ],
   "source": [
    "import nltk\n",
    "nltk_dir = os.path.join('/home', 'peter', 'data', 'nltk')\n",
    "if nltk_dir not in nltk.data.path:\n",
    "    nltk.data.path.append(nltk_dir)\n",
    "\n",
    "nltk.download('stopwords')\n",
    "from nltk.corpus import stopwords\n",
    "stop = set(stopwords.words('english'))\n",
    "txt_clean_list = [word for word in txt_clean_list if word not in stop]\n",
    "print('Number of words after preprocessing (including duplicates): %d ' % len(txt_clean_list))"
   ]
  },
  {
   "cell_type": "markdown",
   "metadata": {},
   "source": [
    "Create bag of words and term frequency. Now we are ready to screen this list for any geography names. But first we have to get a list of geographic items in India."
   ]
  },
  {
   "cell_type": "code",
   "execution_count": 53,
   "metadata": {},
   "outputs": [
    {
     "name": "stdout",
     "output_type": "stream",
     "text": [
      "Number of features (unique words) extracted from the text: 3022\n",
      "      count           word\n",
      "143     501           apac\n",
      "892     239     evaluation\n",
      "1159    232            hiv\n",
      "1137    221         health\n",
      "2063    191        project\n",
      "2682    185          tamil\n",
      "1700    183           nadu\n",
      "78      173           aids\n",
      "739     167      districts\n",
      "2562    126          state\n",
      "2697    112           team\n",
      "2701    111      technical\n",
      "608     102           data\n",
      "1553     96     management\n",
      "2022     93     prevalence\n",
      "2056     90        program\n",
      "538      85        control\n",
      "1094     82     government\n",
      "1710     79       national\n",
      "2672     79        systems\n",
      "2024     77     prevention\n",
      "1256     76          india\n",
      "1130     75           hard\n",
      "2580     73            sti\n",
      "197      72     assistance\n",
      "1750     66            non\n",
      "2864     65          usaid\n",
      "2643     65        support\n",
      "334      65           care\n",
      "989      60         figure\n",
      "2752     60             ti\n",
      "1696     59           naco\n",
      "102      58          among\n",
      "109      57       analysis\n",
      "1917     57          phase\n",
      "1226     55      important\n",
      "2326     54           sacs\n",
      "1734     54            ngo\n",
      "763      53             dr\n",
      "308      52            bss\n",
      "1582     51          marps\n",
      "2991     50           work\n",
      "2790     48       training\n",
      "2504     47           soft\n",
      "1335     47  interventions\n",
      "1480     46          level\n",
      "738      46       district\n",
      "97       46           also\n",
      "2684     45        tansacs\n",
      "2416     45       services\n"
     ]
    }
   ],
   "source": [
    "from sklearn.feature_extraction.text import CountVectorizer\n",
    "\n",
    "# Initialize the \"CountVectorizer\" object, which is scikit-learn's\n",
    "# bag of words tool.  \n",
    "vectorizer = CountVectorizer(analyzer = \"word\",   \n",
    "                             lowercase = True,\n",
    "                             tokenizer = None,    \n",
    "                             preprocessor = None, \n",
    "                             stop_words = None) \n",
    "\n",
    "# fit_transform() does two functions: First, it fits the model\n",
    "# and learns the vocabulary; second, it transforms our training data\n",
    "# into feature vectors. The input to fit_transform should be a list of \n",
    "# strings.\n",
    "# Convert to array. This will be 1xfeatures, or 1xUniqueWords. Select the first row as there is only 1. \n",
    "word_counts = vectorizer.fit_transform([' '.join(txt_clean_list)]).toarray()[0]\n",
    "print('Number of features (unique words) extracted from the text: %d' % len(word_counts))\n",
    "vocab = vectorizer.get_feature_names()\n",
    "word_freq = pd.DataFrame({'word': vocab, 'count': word_counts})\n",
    "print(word_freq.sort_values('count', ascending=False).head(50))"
   ]
  },
  {
   "cell_type": "markdown",
   "metadata": {},
   "source": [
    "## Load India geonames gazetteer\n",
    "Downloaded from http://download.geonames.org/export/dump/"
   ]
  },
  {
   "cell_type": "code",
   "execution_count": 8,
   "metadata": {},
   "outputs": [
    {
     "data": {
      "text/html": [
       "<div>\n",
       "<style scoped>\n",
       "    .dataframe tbody tr th:only-of-type {\n",
       "        vertical-align: middle;\n",
       "    }\n",
       "\n",
       "    .dataframe tbody tr th {\n",
       "        vertical-align: top;\n",
       "    }\n",
       "\n",
       "    .dataframe thead th {\n",
       "        text-align: right;\n",
       "    }\n",
       "</style>\n",
       "<table border=\"1\" class=\"dataframe\">\n",
       "  <thead>\n",
       "    <tr style=\"text-align: right;\">\n",
       "      <th></th>\n",
       "      <th>geonameid</th>\n",
       "      <th>name</th>\n",
       "      <th>asciiname</th>\n",
       "      <th>alternatenames</th>\n",
       "      <th>latitude</th>\n",
       "      <th>longitude</th>\n",
       "      <th>feature_class</th>\n",
       "      <th>feature_code</th>\n",
       "      <th>country_code</th>\n",
       "      <th>cc2</th>\n",
       "      <th>admin1_code</th>\n",
       "      <th>admin2_code</th>\n",
       "      <th>admin3_code</th>\n",
       "      <th>admin4_code</th>\n",
       "      <th>population</th>\n",
       "      <th>elevation</th>\n",
       "      <th>dem</th>\n",
       "      <th>timezone</th>\n",
       "      <th>modification_date</th>\n",
       "    </tr>\n",
       "  </thead>\n",
       "  <tbody>\n",
       "    <tr>\n",
       "      <th>0</th>\n",
       "      <td>1114940</td>\n",
       "      <td>Rāvi River</td>\n",
       "      <td>Ravi River</td>\n",
       "      <td>Ravi,Ravi River,Rāvi,Rāvi River</td>\n",
       "      <td>30.62123</td>\n",
       "      <td>71.82683</td>\n",
       "      <td>H</td>\n",
       "      <td>STM</td>\n",
       "      <td>IN</td>\n",
       "      <td>PK</td>\n",
       "      <td>0.0</td>\n",
       "      <td>NaN</td>\n",
       "      <td>NaN</td>\n",
       "      <td>NaN</td>\n",
       "      <td>0</td>\n",
       "      <td>NaN</td>\n",
       "      <td>133</td>\n",
       "      <td>Asia/Karachi</td>\n",
       "      <td>2017-06-06</td>\n",
       "    </tr>\n",
       "    <tr>\n",
       "      <th>1</th>\n",
       "      <td>1114942</td>\n",
       "      <td>Punjab Plains</td>\n",
       "      <td>Punjab Plains</td>\n",
       "      <td>Punjab Plains</td>\n",
       "      <td>30.00000</td>\n",
       "      <td>75.00000</td>\n",
       "      <td>T</td>\n",
       "      <td>PLN</td>\n",
       "      <td>IN</td>\n",
       "      <td>NaN</td>\n",
       "      <td>0.0</td>\n",
       "      <td>NaN</td>\n",
       "      <td>NaN</td>\n",
       "      <td>NaN</td>\n",
       "      <td>0</td>\n",
       "      <td>NaN</td>\n",
       "      <td>206</td>\n",
       "      <td>Asia/Kolkata</td>\n",
       "      <td>2012-01-16</td>\n",
       "    </tr>\n",
       "    <tr>\n",
       "      <th>2</th>\n",
       "      <td>1114957</td>\n",
       "      <td>Jhelum River</td>\n",
       "      <td>Jhelum River</td>\n",
       "      <td>Jhelum,Jhelum River,River Hydaspes,Veth River</td>\n",
       "      <td>31.16853</td>\n",
       "      <td>72.15066</td>\n",
       "      <td>H</td>\n",
       "      <td>STM</td>\n",
       "      <td>IN</td>\n",
       "      <td>PK</td>\n",
       "      <td>0.0</td>\n",
       "      <td>NaN</td>\n",
       "      <td>NaN</td>\n",
       "      <td>NaN</td>\n",
       "      <td>0</td>\n",
       "      <td>NaN</td>\n",
       "      <td>147</td>\n",
       "      <td>Asia/Karachi</td>\n",
       "      <td>2017-02-03</td>\n",
       "    </tr>\n",
       "    <tr>\n",
       "      <th>3</th>\n",
       "      <td>1114958</td>\n",
       "      <td>Hindustan</td>\n",
       "      <td>Hindustan</td>\n",
       "      <td>Hindustan,Hindustán</td>\n",
       "      <td>28.00000</td>\n",
       "      <td>76.00000</td>\n",
       "      <td>L</td>\n",
       "      <td>RGN</td>\n",
       "      <td>IN</td>\n",
       "      <td>IN,PK</td>\n",
       "      <td>0.0</td>\n",
       "      <td>NaN</td>\n",
       "      <td>NaN</td>\n",
       "      <td>NaN</td>\n",
       "      <td>0</td>\n",
       "      <td>NaN</td>\n",
       "      <td>344</td>\n",
       "      <td>Asia/Kolkata</td>\n",
       "      <td>2006-06-23</td>\n",
       "    </tr>\n",
       "    <tr>\n",
       "      <th>4</th>\n",
       "      <td>1114965</td>\n",
       "      <td>Basantar River</td>\n",
       "      <td>Basantar River</td>\n",
       "      <td>Basantar,Basantar Nala,Basantar Nāla,Basantar ...</td>\n",
       "      <td>32.47452</td>\n",
       "      <td>75.01449</td>\n",
       "      <td>H</td>\n",
       "      <td>STM</td>\n",
       "      <td>IN</td>\n",
       "      <td>NaN</td>\n",
       "      <td>0.0</td>\n",
       "      <td>NaN</td>\n",
       "      <td>NaN</td>\n",
       "      <td>NaN</td>\n",
       "      <td>0</td>\n",
       "      <td>NaN</td>\n",
       "      <td>300</td>\n",
       "      <td>Asia/Karachi</td>\n",
       "      <td>2016-03-09</td>\n",
       "    </tr>\n",
       "  </tbody>\n",
       "</table>\n",
       "</div>"
      ],
      "text/plain": [
       "   geonameid            name       asciiname  \\\n",
       "0    1114940      Rāvi River      Ravi River   \n",
       "1    1114942   Punjab Plains   Punjab Plains   \n",
       "2    1114957    Jhelum River    Jhelum River   \n",
       "3    1114958       Hindustan       Hindustan   \n",
       "4    1114965  Basantar River  Basantar River   \n",
       "\n",
       "                                      alternatenames  latitude  longitude  \\\n",
       "0                    Ravi,Ravi River,Rāvi,Rāvi River  30.62123   71.82683   \n",
       "1                                      Punjab Plains  30.00000   75.00000   \n",
       "2      Jhelum,Jhelum River,River Hydaspes,Veth River  31.16853   72.15066   \n",
       "3                                Hindustan,Hindustán  28.00000   76.00000   \n",
       "4  Basantar,Basantar Nala,Basantar Nāla,Basantar ...  32.47452   75.01449   \n",
       "\n",
       "  feature_class feature_code country_code    cc2  admin1_code admin2_code  \\\n",
       "0             H          STM           IN     PK          0.0         NaN   \n",
       "1             T          PLN           IN    NaN          0.0         NaN   \n",
       "2             H          STM           IN     PK          0.0         NaN   \n",
       "3             L          RGN           IN  IN,PK          0.0         NaN   \n",
       "4             H          STM           IN    NaN          0.0         NaN   \n",
       "\n",
       "   admin3_code  admin4_code  population  elevation  dem      timezone  \\\n",
       "0          NaN          NaN           0        NaN  133  Asia/Karachi   \n",
       "1          NaN          NaN           0        NaN  206  Asia/Kolkata   \n",
       "2          NaN          NaN           0        NaN  147  Asia/Karachi   \n",
       "3          NaN          NaN           0        NaN  344  Asia/Kolkata   \n",
       "4          NaN          NaN           0        NaN  300  Asia/Karachi   \n",
       "\n",
       "  modification_date  \n",
       "0        2017-06-06  \n",
       "1        2012-01-16  \n",
       "2        2017-02-03  \n",
       "3        2006-06-23  \n",
       "4        2016-03-09  "
      ]
     },
     "execution_count": 8,
     "metadata": {},
     "output_type": "execute_result"
    }
   ],
   "source": [
    "# Get the names of columns from the readme file\n",
    "india_gazetteer = pd.read_csv(\n",
    "    os.path.join('/home', 'peter', 'data', 'Surgo', 'geonames', 'IN.txt'), \n",
    "    sep='\\t', \n",
    "    low_memory=False,  # otherwise it complains about inconsistent dtype in columns.\n",
    "    header=None,  # define header names ourselves\n",
    "    names=['geonameid', 'name', 'asciiname', 'alternatenames', 'latitude', 'longitude', 'feature_class', \n",
    "          'feature_code', 'country_code', 'cc2', 'admin1_code', 'admin2_code', 'admin3_code', 'admin4_code',\n",
    "          'population', 'elevation', 'dem', 'timezone', 'modification_date']\n",
    ")\n",
    "# india_gazetteer.describe()\n",
    "india_gazetteer.head(5)"
   ]
  },
  {
   "cell_type": "markdown",
   "metadata": {},
   "source": [
    "Show that lats and longs make up India and where most locations are recorded in geonames. Hue indicates altitude. There are approx 600k locations in the geonames index, we are sampling a few of them to visualize."
   ]
  },
  {
   "cell_type": "code",
   "execution_count": 10,
   "metadata": {},
   "outputs": [
    {
     "data": {
      "image/png": "[encoded data removed]",
      "text/plain": [
       "<matplotlib.figure.Figure at 0x7fd517e0b9e8>"
      ]
     },
     "metadata": {},
     "output_type": "display_data"
    }
   ],
   "source": [
    "import seaborn as sns\n",
    "import matplotlib.pyplot as plt\n",
    "sns.set_context(\"notebook\", font_scale=1.1)\n",
    "sns.set_style(\"ticks\")\n",
    "%matplotlib inline\n",
    "ax = sns.lmplot('longitude', # Horizontal axis\n",
    "           'latitude', # Vertical axis\n",
    "           data=india_gazetteer.sample(2000), # Data source\n",
    "           fit_reg=False, # Don't fix a regression line\n",
    "           hue=\"dem\", # Set color\n",
    "           legend=False,\n",
    "           scatter_kws={\"marker\": \"D\", # Set marker style\n",
    "                        \"s\": 10}) # S marker size"
   ]
  },
  {
   "cell_type": "markdown",
   "metadata": {},
   "source": [
    "Geonames gives every feature a class (single letter) as well as a feature _code_ which describes a subitem of the class. A full list is described here: http://www.geonames.org/export/codes.html. \n",
    "\n",
    "We are only interested in class:\n",
    "\n",
    "* A - country, state, region\n",
    "* P - city, village\n",
    "\n",
    "So let's filter our gazetteer for these. Takes out only about 20% of data points. "
   ]
  },
  {
   "cell_type": "code",
   "execution_count": 13,
   "metadata": {},
   "outputs": [],
   "source": [
    "ig = india_gazetteer[india_gazetteer['feature_class'].isin(['A', 'P'])]"
   ]
  },
  {
   "cell_type": "markdown",
   "metadata": {},
   "source": [
    "We made our list of words lowercase so let's do the same here"
   ]
  },
  {
   "cell_type": "code",
   "execution_count": 33,
   "metadata": {},
   "outputs": [
    {
     "name": "stdout",
     "output_type": "stream",
     "text": [
      "        geonameid          name     asciiname alternatenames  latitude  \\\n",
      "79509    10180376     Purānābās     Puranabas            NaN  28.34807   \n",
      "317027   10676045       Pandwāi       Pandwai            NaN  23.85997   \n",
      "182881   10514930    Dhīmartola    Dhimartola            NaN  21.53619   \n",
      "394382   10762664    Bhagwānpur    Bhagwanpur            NaN  26.82419   \n",
      "140578   10470929     Beldongri     Beldongri            NaN  21.34250   \n",
      "614281   11666048  Kodāngipatti  Kodangipatti            NaN   9.45666   \n",
      "31125     1432561   Choring Pol   Choring Pol            NaN  33.97378   \n",
      "24924     1277679         Bākra         Bakra            NaN  22.48196   \n",
      "122491   10450402   Nasrullābād   Nasrullabad            NaN  18.47667   \n",
      "206669   10539122       Dugauli       Dugauli            NaN  25.85158   \n",
      "\n",
      "        longitude feature_class feature_code country_code  cc2  admin1_code  \\\n",
      "79509    75.41608             P          PPL           IN  NaN         24.0   \n",
      "317027   80.54753             P          PPL           IN  NaN         35.0   \n",
      "182881   79.99485             P          PPL           IN  NaN         35.0   \n",
      "394382   81.50948             P          PPL           IN  NaN         36.0   \n",
      "140578   79.29792             P          PPL           IN  NaN         16.0   \n",
      "614281   78.30085             P          PPL           IN  NaN         25.0   \n",
      "31125    74.36621             P          PPL           IN  NaN         12.0   \n",
      "24924    86.48693             P          PPL           IN  NaN         38.0   \n",
      "122491   77.86933             P          PPL           IN  NaN         40.0   \n",
      "206669   82.38321             P          PPL           IN  NaN         36.0   \n",
      "\n",
      "       admin2_code  admin3_code  admin4_code  population  elevation   dem  \\\n",
      "79509          102          NaN          NaN           0        NaN   285   \n",
      "317027         450          NaN          NaN           0        NaN   386   \n",
      "182881         457          NaN          NaN           0        NaN   276   \n",
      "394382         176          NaN          NaN           0        NaN   114   \n",
      "140578         505          NaN          NaN           0        NaN   302   \n",
      "614281         626          NaN          NaN           0        NaN    45   \n",
      "31125          008          NaN          NaN           0        NaN  3458   \n",
      "24924          357          NaN          NaN           0        NaN    91   \n",
      "122491         533          NaN          NaN           0        NaN   408   \n",
      "206669         194          NaN          NaN           0        NaN    91   \n",
      "\n",
      "            timezone modification_date    name_lower  \n",
      "79509   Asia/Kolkata        2016-02-11     purānābās  \n",
      "317027  Asia/Kolkata        2016-02-11       pandwāi  \n",
      "182881  Asia/Kolkata        2016-02-11    dhīmartola  \n",
      "394382  Asia/Kolkata        2016-02-11    bhagwānpur  \n",
      "140578  Asia/Kolkata        2016-02-11     beldongri  \n",
      "614281  Asia/Kolkata        2017-09-11  kodāngipatti  \n",
      "31125   Asia/Kolkata        2014-10-13   choring pol  \n",
      "24924   Asia/Kolkata        2014-10-14         bākra  \n",
      "122491  Asia/Kolkata        2016-06-08   nasrullābād  \n",
      "206669  Asia/Kolkata        2016-02-11       dugauli  \n"
     ]
    },
    {
     "name": "stderr",
     "output_type": "stream",
     "text": [
      "SettingWithCopyWarning: \n",
      "A value is trying to be set on a copy of a slice from a DataFrame.\n",
      "Try using .loc[row_indexer,col_indexer] = value instead\n",
      "\n",
      "See the caveats in the documentation: http://pandas.pydata.org/pandas-docs/stable/indexing.html#indexing-view-versus-copy [indexing.py:537]\n"
     ]
    }
   ],
   "source": [
    "# Throws a spurious SettingWithCopyWarning. \n",
    "ig.loc[:, 'name_lower'] = ig['name'].apply(str.lower)\n",
    "print(ig.sample(10))"
   ]
  },
  {
   "cell_type": "markdown",
   "metadata": {},
   "source": [
    "## Matching gazetteer to text from PDF\n",
    "We now have `ig` which contains one row per geographic entity and includes a column `name_lower` which we will use to find matches in `word_freq`. \n",
    "\n",
    "A big issue here is that placenames can consist of multiple words (n-grams) whereas we are only set up to detect single-word places. To keep things simple, we'll keep things as is meaning any multi-word places will never get matched.\n",
    "\n",
    "We will do a left join word_freq <-- ig so all rows in word_freq are maintained. The ig columns in the new dataframe will be NaN if the word does not exist in the gazetteer, and will have values of it does. "
   ]
  },
  {
   "cell_type": "code",
   "execution_count": 64,
   "metadata": {},
   "outputs": [
    {
     "name": "stdout",
     "output_type": "stream",
     "text": [
      "Number of unique words in PDF: 3397\n",
      "Number of words in PDF matched to Geoname: 113\n",
      "Words matched:\n",
      "      count    name_lower\n",
      "2038    183          nadu\n",
      "612     102          data\n",
      "2088     66           non\n",
      "2746     29        sector\n",
      "2136     17           one\n",
      "1723     15         kumar\n",
      "1959     13       mission\n",
      "378      12        change\n",
      "1919     12           men\n",
      "3039      9           tai\n",
      "2688      8         salem\n",
      "2447      8    puducherry\n",
      "1380      8           jan\n",
      "1809      7          long\n",
      "1432      6         karur\n",
      "391       6       chennai\n",
      "1758      6           led\n",
      "1971      6          mode\n",
      "2257      6           pes\n",
      "1422      5  kancheepuram\n",
      "1927      5          mera\n",
      "1069      5           gen\n",
      "780       5          drug\n",
      "2381      4         priya\n",
      "2233      4    perambalur\n",
      "972       3         faith\n",
      "3114      3          thus\n",
      "3253      3         valan\n",
      "2023      3         multi\n",
      "2494      2           ran\n",
      "...     ...           ...\n",
      "2033      1            na\n",
      "2032      1         mutha\n",
      "1714      1        komala\n",
      "2001      1        mohana\n",
      "1716      1       krishna\n",
      "2495      1         ranga\n",
      "1969      1           mod\n",
      "1726      1        kumari\n",
      "1825      1          main\n",
      "1846      1         manju\n",
      "1850      1          mano\n",
      "1898      1          maya\n",
      "1455      1         khera\n",
      "1446      1           ker\n",
      "2132      1            oi\n",
      "1444      1       kavitha\n",
      "2190      1        palani\n",
      "2191      1          pale\n",
      "2218      1          path\n",
      "1437      1          kaul\n",
      "2254      1    perundurai\n",
      "1425      1         karen\n",
      "2258      1         peter\n",
      "1419      1        kamala\n",
      "1409      1         kalai\n",
      "1408      1        kakkar\n",
      "2474      1         radha\n",
      "2475      1     raghunath\n",
      "2490      1        rambha\n",
      "76        1            ai\n",
      "\n",
      "[113 rows x 2 columns]\n"
     ]
    }
   ],
   "source": [
    "place_freq = pd.merge(word_freq, ig, how='left', left_on='word', right_on='name_lower')\n",
    "print('Number of unique words in PDF: %d' % len(place_freq.index))\n",
    "place_freq = place_freq[place_freq['geonameid'].notnull()]\n",
    "print('Number of words in PDF matched to Geoname: %d' % len(place_freq.drop_duplicates(subset='name_lower').index))\n",
    "print('Words matched:')\n",
    "print(place_freq[['count','name_lower']].drop_duplicates(subset='name_lower').sort_values('count', ascending=False))"
   ]
  },
  {
   "cell_type": "code",
   "execution_count": 60,
   "metadata": {},
   "outputs": [
    {
     "data": {
      "text/html": [
       "<div>\n",
       "<style scoped>\n",
       "    .dataframe tbody tr th:only-of-type {\n",
       "        vertical-align: middle;\n",
       "    }\n",
       "\n",
       "    .dataframe tbody tr th {\n",
       "        vertical-align: top;\n",
       "    }\n",
       "\n",
       "    .dataframe thead th {\n",
       "        text-align: right;\n",
       "    }\n",
       "</style>\n",
       "<table border=\"1\" class=\"dataframe\">\n",
       "  <thead>\n",
       "    <tr style=\"text-align: right;\">\n",
       "      <th></th>\n",
       "      <th>geonameid</th>\n",
       "      <th>name</th>\n",
       "      <th>asciiname</th>\n",
       "      <th>alternatenames</th>\n",
       "      <th>latitude</th>\n",
       "      <th>longitude</th>\n",
       "      <th>feature_class</th>\n",
       "      <th>feature_code</th>\n",
       "      <th>country_code</th>\n",
       "      <th>cc2</th>\n",
       "      <th>admin1_code</th>\n",
       "      <th>admin2_code</th>\n",
       "      <th>admin3_code</th>\n",
       "      <th>admin4_code</th>\n",
       "      <th>population</th>\n",
       "      <th>elevation</th>\n",
       "      <th>dem</th>\n",
       "      <th>timezone</th>\n",
       "      <th>modification_date</th>\n",
       "      <th>name_lower</th>\n",
       "    </tr>\n",
       "  </thead>\n",
       "  <tbody>\n",
       "  </tbody>\n",
       "</table>\n",
       "</div>"
      ],
      "text/plain": [
       "Empty DataFrame\n",
       "Columns: [geonameid, name, asciiname, alternatenames, latitude, longitude, feature_class, feature_code, country_code, cc2, admin1_code, admin2_code, admin3_code, admin4_code, population, elevation, dem, timezone, modification_date, name_lower]\n",
       "Index: []"
      ]
     },
     "execution_count": 60,
     "metadata": {},
     "output_type": "execute_result"
    }
   ],
   "source": [
    "word_freq[word_freq['word'] == 'data']\n",
    "ig[ig['name_lower'] == 'tamil nadu']"
   ]
  },
  {
   "cell_type": "markdown",
   "metadata": {},
   "source": [
    "From these results a number of issues become clear:\n",
    "\n",
    "* Nadu has been picked up often and is linked to a tiny locality in south west india. The PDF instead refers to \"Tamil Nadu\", a huge province in the south east. \n",
    "* There are many duplicate placenames in India, and we do not know how to choose between one and the other. For example, \"khera\" and \"salem\". \n",
    "* Names of people might be matched with names of places (possibly \"Kumar\"?)\n"
   ]
  }
 ],
 "metadata": {
  "anaconda-cloud": {},
  "kernelspec": {
   "display_name": "Python 3",
   "language": "python",
   "name": "python3"
  },
  "language_info": {
   "codemirror_mode": {
    "name": "ipython",
    "version": 3
   },
   "file_extension": ".py",
   "mimetype": "text/x-python",
   "name": "python",
   "nbconvert_exporter": "python",
   "pygments_lexer": "ipython3",
   "version": "3.6.2"
  }
 },
 "nbformat": 4,
 "nbformat_minor": 1
}
